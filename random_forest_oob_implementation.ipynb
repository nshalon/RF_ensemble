{
 "cells": [
  {
   "cell_type": "markdown",
   "metadata": {
    "id": "isUVtIh32QpY"
   },
   "source": [
    "# Homework 5 Code"
   ]
  },
  {
   "cell_type": "code",
   "execution_count": 2,
   "metadata": {
    "id": "wVUYkUOixhB9"
   },
   "outputs": [],
   "source": [
    "# Add import statements here\n",
    "from sklearn.tree import DecisionTreeClassifier\n",
    "from scipy.stats import mode\n",
    "import pandas as pd\n",
    "import numpy as np\n",
    "import matplotlib.pyplot as plt\n",
    "import tensorflow as tf"
   ]
  },
  {
   "cell_type": "markdown",
   "metadata": {
    "id": "CvotGgJ_2mup"
   },
   "source": [
    "## Random Forest\n",
    "\n",
    "The `random_forest` function learns an ensemble of numBags CART decision trees using a random subset of the features at each split on the input dataset and also plots the  out-of-bag error as a function of the number of bags\n",
    "\n",
    "Inputs:\n",
    "* `X_train` is the training data\n",
    "* `y_train` are the training labels\n",
    "* `X_test` is the testing data\n",
    "* `y_test` are the testing labels\n",
    "* `num_bags` is the number of trees to learn in the ensemble\n",
    "* `m` is the number of randomly selected features to consider at each split\n",
    "\n",
    "Outputs: \n",
    "* `out_of_bag_error` is the out-of-bag classification error of the final learned ensemble\n",
    "* `test_error` is the classification error of the final learned ensemble on test data\n",
    "\n"
   ]
  },
  {
   "cell_type": "code",
   "execution_count": 118,
   "metadata": {
    "scrolled": true
   },
   "outputs": [
    {
     "data": {
      "image/png": "[encoded data removed]",
      "text/plain": [
       "<Figure size 432x288 with 1 Axes>"
      ]
     },
     "metadata": {
      "needs_background": "light"
     },
     "output_type": "display_data"
    }
   ],
   "source": [
    "x = [\"1v3 OOB\", \"5v3 OOB\", \"1v3 Test\", \"5v3 Test\"]\n",
    "y = [0.007535, 0.02415, 0.020512, 0.0709779]\n",
    "plt.bar(x, y)\n",
    "plt.xlabel(\"Task and Error Class\")\n",
    "plt.ylabel(\"Error\")\n",
    "plt.title(\"OOB vs Test errors\")\n",
    "plt.show()"
   ]
  },
  {
   "cell_type": "code",
   "execution_count": 101,
   "metadata": {
    "id": "UlZ-XeLN2iTv"
   },
   "outputs": [],
   "source": [
    "def random_forest(X_train, y_train, X_test, y_test, num_bags, m):\n",
    "    # set the model\n",
    "    tree = DecisionTreeClassifier(max_features = m)\n",
    "    # relate which models weren't trained on each data point\n",
    "    data_to_not_trained_on = {}\n",
    "    # number of data points\n",
    "    n = len(y_train)\n",
    "    print(n, \"samples\")\n",
    "    # keep track of all models for test error\n",
    "    all_models = []\n",
    "    for bag in range(num_bags):\n",
    "        # randomly select n data points from the bag of data points\n",
    "        rand_selection = np.random.randint(low=0, high=n-1, size=n)\n",
    "        x_choose = X_train[rand_selection , :]\n",
    "        y_choose = y_train[rand_selection]\n",
    "        # train\n",
    "        model = tree.fit(x_choose, y_choose)\n",
    "        all_models.append(model)\n",
    "        # track which data point this model wasn't trained on\n",
    "        for i in (set(range(n)) - set(rand_selection)):\n",
    "            data_to_not_trained_on.setdefault(i, []).append(model)\n",
    "            \n",
    "    # out of bag error; validation\n",
    "    size_s = len(data_to_not_trained_on.items())\n",
    "    bag_error_sum = sum([g_bar_error(models, X_train[i], y_train[i]) \n",
    "                     for i, models in data_to_not_trained_on.items()])\n",
    "    out_of_bag_error = bag_error_sum / size_s\n",
    "    \n",
    "    # test error\n",
    "    size_test = len(y_test)\n",
    "    test_error_sum = sum([g_bar_error(all_models, X_test[i], y_test[i]) \n",
    "                     for i in range(size_test)])\n",
    "    test_error = test_error_sum / size_test\n",
    "\n",
    "    return out_of_bag_error, test_error"
   ]
  },
  {
   "cell_type": "code",
   "execution_count": 102,
   "metadata": {},
   "outputs": [],
   "source": [
    "def g_bar_error(models, x, y):\n",
    "    y_hat = []\n",
    "    for model in models:\n",
    "        y_hat.append(model.predict(np.reshape(x, (1, x.shape[0])))[0])\n",
    "    return int(mode(y_hat, axis=None)[0][0] != y)"
   ]
  },
  {
   "cell_type": "markdown",
   "metadata": {
    "id": "j7Cuyd_N9rH_"
   },
   "source": [
    "## Run and Plot\n",
    "\n",
    "Run your random forest code and plot figures below"
   ]
  },
  {
   "cell_type": "code",
   "execution_count": 97,
   "metadata": {
    "id": "L7seATRA9rge"
   },
   "outputs": [],
   "source": [
    "# Other random forest code here:\n",
    "mnist = tf.keras.datasets.mnist\n",
    "(x_train, y_train), (x_test, y_test) = mnist.load_data()"
   ]
  },
  {
   "cell_type": "code",
   "execution_count": null,
   "metadata": {},
   "outputs": [],
   "source": [
    "x_train_test = np.array(three_x_train + five_x_train)\n",
    "y_train_test = np.array(three_y_train + five_y_train)\n",
    "n = len(x_train_test)\n",
    "rand = np.ndarray.flatten(np.random.choice(range(n), size=int(0.5*n)))\n",
    "x_test_test = np.array(three_x_test + five_x_test)\n",
    "y_test_test = np.array(three_y_test + five_y_test)\n",
    "three_five_results = [random_forest(x_train_test, \n",
    "              y_train_test, \n",
    "              x_test_test,\n",
    "             y_test_test, i, 50) for i in [1, 5, 25, 50, 100, 200, 300]]\n",
    "\n",
    "num_bags = [\"1\", \"5\", \"25\", \"50\", \"100\", \"200\", \"300\"]\n",
    "plt.bar(num_bags, [d[0] for d in three_one_results])\n",
    "plt.xlabel(\"# bags\")\n",
    "plt.ylabel(\"OOB error\")\n",
    "plt.title(\"1 vs 3\")\n",
    "plt.show()\n",
    "print(three_one_results)\n",
    "\n",
    "num_bags = [\"1\", \"5\", \"25\", \"50\", \"100\", \"200\", \"300\"]\n",
    "plt.bar(num_bags, [d[0] for d in three_five_results])\n",
    "plt.xlabel(\"# bags\")\n",
    "plt.ylabel(\"OOB error\")\n",
    "plt.title(\"3 vs 5\")\n",
    "plt.show()\n",
    "print(three_five_results)\n",
    "\n",
    "x = [\"1v3 OOB\", \"5v3 OOB\", \"1v3 Test\", \"5v3 Test\"]\n",
    "y = [0.007535, 0.02415, 0.020512, 0.0709779]\n",
    "plt.bar(x, y)\n",
    "plt.xlabel(\"Task and Error Class\")\n",
    "plt.ylabel(\"Error\")\n",
    "plt.title(\"OOB vs Test errors\")\n",
    "plt.show()"
   ]
  },
  {
   "cell_type": "code",
   "execution_count": null,
   "metadata": {},
   "outputs": [],
   "source": [
    "x_train_test = np.array(three_x_train + one_x_train)\n",
    "y_train_test = np.array(three_y_train + one_y_train)\n",
    "n = len(x_train_test)\n",
    "rand = np.ndarray.flatten(np.random.choice(range(n), size=int(0.5*n)))\n",
    "x_test_test = np.array(three_x_test + one_x_test)\n",
    "y_test_test = np.array(three_y_test + one_y_test)\n",
    "three_one_results = [random_forest(x_train_test, \n",
    "              y_train_test, \n",
    "              x_test_test,\n",
    "             y_test_test, i, 50) for i in [1, 5, 25, 50, 100, 200, 300]]"
   ]
  },
  {
   "cell_type": "code",
   "execution_count": 98,
   "metadata": {},
   "outputs": [],
   "source": [
    "number_to_data = {}\n",
    "for i, label in enumerate(y_train):\n",
    "    number_to_data.setdefault(label, []).append(np.ndarray.flatten(x_train[i]))\n",
    "number_to_test_data = {}\n",
    "for i, label in enumerate(y_test):\n",
    "    number_to_test_data.setdefault(label, []).append(np.ndarray.flatten(x_test[i]))"
   ]
  },
  {
   "cell_type": "code",
   "execution_count": 99,
   "metadata": {},
   "outputs": [],
   "source": [
    "three_x_train = number_to_data[3]\n",
    "three_y_train = [3 for i in range(len(three_x_train))]\n",
    "one_x_train = number_to_data[1]\n",
    "one_y_train = [1 for i in range(len(one_x_train))]\n",
    "five_x_train = number_to_data[5]\n",
    "five_y_train = [5 for i in range(len(five_x_train))]\n",
    "\n",
    "three_x_test = number_to_test_data[3]\n",
    "three_y_test = [3 for i in range(len(three_x_test))]\n",
    "one_x_test = number_to_test_data[1]\n",
    "one_y_test = [1 for i in range(len(one_x_test))]\n",
    "five_x_test = number_to_test_data[5]\n",
    "five_y_test = [5 for i in range(len(five_x_test))]"
   ]
  }
 ],
 "metadata": {
  "colab": {
   "collapsed_sections": [],
   "name": "hw5_code.ipynb",
   "provenance": []
  },
  "kernelspec": {
   "display_name": "Python 3",
   "language": "python",
   "name": "python3"
  },
  "language_info": {
   "codemirror_mode": {
    "name": "ipython",
    "version": 3
   },
   "file_extension": ".py",
   "mimetype": "text/x-python",
   "name": "python",
   "nbconvert_exporter": "python",
   "pygments_lexer": "ipython3",
   "version": "3.7.6"
  }
 },
 "nbformat": 4,
 "nbformat_minor": 1
}
